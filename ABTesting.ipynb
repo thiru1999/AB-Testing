{
 "cells": [
  {
   "cell_type": "code",
   "execution_count": 23,
   "id": "3e8083c5",
   "metadata": {},
   "outputs": [],
   "source": [
    "import numpy as np \n",
    "import pandas as pd "
   ]
  },
  {
   "cell_type": "code",
   "execution_count": 24,
   "id": "bd11c433",
   "metadata": {},
   "outputs": [
    {
     "data": {
      "text/html": [
       "<div>\n",
       "<style scoped>\n",
       "    .dataframe tbody tr th:only-of-type {\n",
       "        vertical-align: middle;\n",
       "    }\n",
       "\n",
       "    .dataframe tbody tr th {\n",
       "        vertical-align: top;\n",
       "    }\n",
       "\n",
       "    .dataframe thead th {\n",
       "        text-align: right;\n",
       "    }\n",
       "</style>\n",
       "<table border=\"1\" class=\"dataframe\">\n",
       "  <thead>\n",
       "    <tr style=\"text-align: right;\">\n",
       "      <th></th>\n",
       "      <th>treatment</th>\n",
       "      <th>new_images</th>\n",
       "      <th>converted</th>\n",
       "    </tr>\n",
       "  </thead>\n",
       "  <tbody>\n",
       "    <tr>\n",
       "      <th>0</th>\n",
       "      <td>yes</td>\n",
       "      <td>yes</td>\n",
       "      <td>0</td>\n",
       "    </tr>\n",
       "    <tr>\n",
       "      <th>1</th>\n",
       "      <td>yes</td>\n",
       "      <td>yes</td>\n",
       "      <td>0</td>\n",
       "    </tr>\n",
       "    <tr>\n",
       "      <th>2</th>\n",
       "      <td>yes</td>\n",
       "      <td>yes</td>\n",
       "      <td>0</td>\n",
       "    </tr>\n",
       "    <tr>\n",
       "      <th>3</th>\n",
       "      <td>yes</td>\n",
       "      <td>no</td>\n",
       "      <td>0</td>\n",
       "    </tr>\n",
       "    <tr>\n",
       "      <th>4</th>\n",
       "      <td>no</td>\n",
       "      <td>yes</td>\n",
       "      <td>0</td>\n",
       "    </tr>\n",
       "    <tr>\n",
       "      <th>...</th>\n",
       "      <td>...</td>\n",
       "      <td>...</td>\n",
       "      <td>...</td>\n",
       "    </tr>\n",
       "    <tr>\n",
       "      <th>40479</th>\n",
       "      <td>no</td>\n",
       "      <td>no</td>\n",
       "      <td>0</td>\n",
       "    </tr>\n",
       "    <tr>\n",
       "      <th>40480</th>\n",
       "      <td>yes</td>\n",
       "      <td>yes</td>\n",
       "      <td>0</td>\n",
       "    </tr>\n",
       "    <tr>\n",
       "      <th>40481</th>\n",
       "      <td>yes</td>\n",
       "      <td>yes</td>\n",
       "      <td>0</td>\n",
       "    </tr>\n",
       "    <tr>\n",
       "      <th>40482</th>\n",
       "      <td>no</td>\n",
       "      <td>no</td>\n",
       "      <td>0</td>\n",
       "    </tr>\n",
       "    <tr>\n",
       "      <th>40483</th>\n",
       "      <td>yes</td>\n",
       "      <td>yes</td>\n",
       "      <td>0</td>\n",
       "    </tr>\n",
       "  </tbody>\n",
       "</table>\n",
       "<p>40484 rows × 3 columns</p>\n",
       "</div>"
      ],
      "text/plain": [
       "      treatment new_images  converted\n",
       "0           yes        yes          0\n",
       "1           yes        yes          0\n",
       "2           yes        yes          0\n",
       "3           yes         no          0\n",
       "4            no        yes          0\n",
       "...         ...        ...        ...\n",
       "40479        no         no          0\n",
       "40480       yes        yes          0\n",
       "40481       yes        yes          0\n",
       "40482        no         no          0\n",
       "40483       yes        yes          0\n",
       "\n",
       "[40484 rows x 3 columns]"
      ]
     },
     "execution_count": 24,
     "metadata": {},
     "output_type": "execute_result"
    }
   ],
   "source": [
    "df=pd.read_csv('redesign.csv')\n",
    "df"
   ]
  },
  {
   "cell_type": "code",
   "execution_count": 25,
   "id": "ca166db3",
   "metadata": {},
   "outputs": [
    {
     "data": {
      "text/plain": [
       "Index(['treatment', 'new_images', 'converted'], dtype='object')"
      ]
     },
     "execution_count": 25,
     "metadata": {},
     "output_type": "execute_result"
    }
   ],
   "source": [
    "df.columns"
   ]
  },
  {
   "cell_type": "markdown",
   "id": "a5263768",
   "metadata": {},
   "source": [
    "#### Renaming the Treatment Column to LandingPage for Better Readability\n"
   ]
  },
  {
   "cell_type": "code",
   "execution_count": 26,
   "id": "11b5f0e8",
   "metadata": {},
   "outputs": [],
   "source": [
    "df.rename(columns={'treatment':'landingPage'},inplace=True)"
   ]
  },
  {
   "cell_type": "code",
   "execution_count": 27,
   "id": "0cea51db",
   "metadata": {},
   "outputs": [
    {
     "data": {
      "text/html": [
       "<div>\n",
       "<style scoped>\n",
       "    .dataframe tbody tr th:only-of-type {\n",
       "        vertical-align: middle;\n",
       "    }\n",
       "\n",
       "    .dataframe tbody tr th {\n",
       "        vertical-align: top;\n",
       "    }\n",
       "\n",
       "    .dataframe thead th {\n",
       "        text-align: right;\n",
       "    }\n",
       "</style>\n",
       "<table border=\"1\" class=\"dataframe\">\n",
       "  <thead>\n",
       "    <tr style=\"text-align: right;\">\n",
       "      <th></th>\n",
       "      <th>landingPage</th>\n",
       "      <th>new_images</th>\n",
       "      <th>converted</th>\n",
       "    </tr>\n",
       "  </thead>\n",
       "  <tbody>\n",
       "    <tr>\n",
       "      <th>0</th>\n",
       "      <td>yes</td>\n",
       "      <td>yes</td>\n",
       "      <td>0</td>\n",
       "    </tr>\n",
       "    <tr>\n",
       "      <th>1</th>\n",
       "      <td>yes</td>\n",
       "      <td>yes</td>\n",
       "      <td>0</td>\n",
       "    </tr>\n",
       "    <tr>\n",
       "      <th>2</th>\n",
       "      <td>yes</td>\n",
       "      <td>yes</td>\n",
       "      <td>0</td>\n",
       "    </tr>\n",
       "    <tr>\n",
       "      <th>3</th>\n",
       "      <td>yes</td>\n",
       "      <td>no</td>\n",
       "      <td>0</td>\n",
       "    </tr>\n",
       "    <tr>\n",
       "      <th>4</th>\n",
       "      <td>no</td>\n",
       "      <td>yes</td>\n",
       "      <td>0</td>\n",
       "    </tr>\n",
       "    <tr>\n",
       "      <th>...</th>\n",
       "      <td>...</td>\n",
       "      <td>...</td>\n",
       "      <td>...</td>\n",
       "    </tr>\n",
       "    <tr>\n",
       "      <th>40479</th>\n",
       "      <td>no</td>\n",
       "      <td>no</td>\n",
       "      <td>0</td>\n",
       "    </tr>\n",
       "    <tr>\n",
       "      <th>40480</th>\n",
       "      <td>yes</td>\n",
       "      <td>yes</td>\n",
       "      <td>0</td>\n",
       "    </tr>\n",
       "    <tr>\n",
       "      <th>40481</th>\n",
       "      <td>yes</td>\n",
       "      <td>yes</td>\n",
       "      <td>0</td>\n",
       "    </tr>\n",
       "    <tr>\n",
       "      <th>40482</th>\n",
       "      <td>no</td>\n",
       "      <td>no</td>\n",
       "      <td>0</td>\n",
       "    </tr>\n",
       "    <tr>\n",
       "      <th>40483</th>\n",
       "      <td>yes</td>\n",
       "      <td>yes</td>\n",
       "      <td>0</td>\n",
       "    </tr>\n",
       "  </tbody>\n",
       "</table>\n",
       "<p>40484 rows × 3 columns</p>\n",
       "</div>"
      ],
      "text/plain": [
       "      landingPage new_images  converted\n",
       "0             yes        yes          0\n",
       "1             yes        yes          0\n",
       "2             yes        yes          0\n",
       "3             yes         no          0\n",
       "4              no        yes          0\n",
       "...           ...        ...        ...\n",
       "40479          no         no          0\n",
       "40480         yes        yes          0\n",
       "40481         yes        yes          0\n",
       "40482          no         no          0\n",
       "40483         yes        yes          0\n",
       "\n",
       "[40484 rows x 3 columns]"
      ]
     },
     "execution_count": 27,
     "metadata": {},
     "output_type": "execute_result"
    }
   ],
   "source": [
    "df"
   ]
  },
  {
   "cell_type": "code",
   "execution_count": 28,
   "id": "d7ca780a",
   "metadata": {},
   "outputs": [
    {
     "name": "stdout",
     "output_type": "stream",
     "text": [
      "<class 'pandas.core.frame.DataFrame'>\n",
      "RangeIndex: 40484 entries, 0 to 40483\n",
      "Data columns (total 3 columns):\n",
      " #   Column       Non-Null Count  Dtype \n",
      "---  ------       --------------  ----- \n",
      " 0   landingPage  40484 non-null  object\n",
      " 1   new_images   40484 non-null  object\n",
      " 2   converted    40484 non-null  int64 \n",
      "dtypes: int64(1), object(2)\n",
      "memory usage: 949.0+ KB\n"
     ]
    }
   ],
   "source": [
    "df.info()"
   ]
  },
  {
   "cell_type": "markdown",
   "id": "7a4a48f1",
   "metadata": {},
   "source": [
    "#### Converting the Object Data Type to Category Data Type For Storage Optimization"
   ]
  },
  {
   "cell_type": "code",
   "execution_count": 29,
   "id": "fddd315c",
   "metadata": {},
   "outputs": [],
   "source": [
    "df[['landingPage','new_images']] = df[['landingPage','new_images']].astype('category')"
   ]
  },
  {
   "cell_type": "code",
   "execution_count": 30,
   "id": "2ecc4bd2",
   "metadata": {},
   "outputs": [
    {
     "name": "stdout",
     "output_type": "stream",
     "text": [
      "<class 'pandas.core.frame.DataFrame'>\n",
      "RangeIndex: 40484 entries, 0 to 40483\n",
      "Data columns (total 3 columns):\n",
      " #   Column       Non-Null Count  Dtype   \n",
      "---  ------       --------------  -----   \n",
      " 0   landingPage  40484 non-null  category\n",
      " 1   new_images   40484 non-null  category\n",
      " 2   converted    40484 non-null  int64   \n",
      "dtypes: category(2), int64(1)\n",
      "memory usage: 395.7 KB\n"
     ]
    }
   ],
   "source": [
    "df.info()"
   ]
  },
  {
   "cell_type": "code",
   "execution_count": 31,
   "id": "35064827",
   "metadata": {},
   "outputs": [
    {
     "data": {
      "text/plain": [
       "landingPage    0\n",
       "new_images     0\n",
       "converted      0\n",
       "dtype: int64"
      ]
     },
     "execution_count": 31,
     "metadata": {},
     "output_type": "execute_result"
    }
   ],
   "source": [
    "df.isna().sum()"
   ]
  },
  {
   "cell_type": "markdown",
   "id": "cae51b90",
   "metadata": {},
   "source": [
    "#### we are Going to Create 4 Groups"
   ]
  },
  {
   "cell_type": "markdown",
   "id": "21060323",
   "metadata": {},
   "source": [
    "A:Control Group = > Old Image and Old Landing Page <br>\n",
    "B:Treatment Group = > New Image and Old Landing Page <br>\n",
    "C:Treatment Group = > Old Image and New Landing Page <br>\n",
    "D:Treatment Group = > New Image and New Landing Page <br>"
   ]
  },
  {
   "cell_type": "code",
   "execution_count": 32,
   "id": "87f54e6d",
   "metadata": {},
   "outputs": [],
   "source": [
    "df['Groups'] = np.where((df['landingPage'] == 'no') & (df['new_images'] == 'no'), 'A',\n",
    "                        np.where((df['landingPage'] == 'no') & (df['new_images'] == 'yes'), 'B',\n",
    "                                 np.where((df['landingPage'] == 'yes') & (df['new_images'] == 'no'), 'C',\n",
    "                                          np.where((df['landingPage'] == 'yes') & (df['new_images'] == 'yes'), 'D', ''))))"
   ]
  },
  {
   "cell_type": "code",
   "execution_count": 33,
   "id": "91f6fbb2",
   "metadata": {},
   "outputs": [
    {
     "data": {
      "text/html": [
       "<div>\n",
       "<style scoped>\n",
       "    .dataframe tbody tr th:only-of-type {\n",
       "        vertical-align: middle;\n",
       "    }\n",
       "\n",
       "    .dataframe tbody tr th {\n",
       "        vertical-align: top;\n",
       "    }\n",
       "\n",
       "    .dataframe thead th {\n",
       "        text-align: right;\n",
       "    }\n",
       "</style>\n",
       "<table border=\"1\" class=\"dataframe\">\n",
       "  <thead>\n",
       "    <tr style=\"text-align: right;\">\n",
       "      <th></th>\n",
       "      <th>landingPage</th>\n",
       "      <th>new_images</th>\n",
       "      <th>converted</th>\n",
       "      <th>Groups</th>\n",
       "    </tr>\n",
       "  </thead>\n",
       "  <tbody>\n",
       "    <tr>\n",
       "      <th>0</th>\n",
       "      <td>yes</td>\n",
       "      <td>yes</td>\n",
       "      <td>0</td>\n",
       "      <td>D</td>\n",
       "    </tr>\n",
       "    <tr>\n",
       "      <th>1</th>\n",
       "      <td>yes</td>\n",
       "      <td>yes</td>\n",
       "      <td>0</td>\n",
       "      <td>D</td>\n",
       "    </tr>\n",
       "    <tr>\n",
       "      <th>2</th>\n",
       "      <td>yes</td>\n",
       "      <td>yes</td>\n",
       "      <td>0</td>\n",
       "      <td>D</td>\n",
       "    </tr>\n",
       "    <tr>\n",
       "      <th>3</th>\n",
       "      <td>yes</td>\n",
       "      <td>no</td>\n",
       "      <td>0</td>\n",
       "      <td>C</td>\n",
       "    </tr>\n",
       "    <tr>\n",
       "      <th>4</th>\n",
       "      <td>no</td>\n",
       "      <td>yes</td>\n",
       "      <td>0</td>\n",
       "      <td>B</td>\n",
       "    </tr>\n",
       "    <tr>\n",
       "      <th>...</th>\n",
       "      <td>...</td>\n",
       "      <td>...</td>\n",
       "      <td>...</td>\n",
       "      <td>...</td>\n",
       "    </tr>\n",
       "    <tr>\n",
       "      <th>40479</th>\n",
       "      <td>no</td>\n",
       "      <td>no</td>\n",
       "      <td>0</td>\n",
       "      <td>A</td>\n",
       "    </tr>\n",
       "    <tr>\n",
       "      <th>40480</th>\n",
       "      <td>yes</td>\n",
       "      <td>yes</td>\n",
       "      <td>0</td>\n",
       "      <td>D</td>\n",
       "    </tr>\n",
       "    <tr>\n",
       "      <th>40481</th>\n",
       "      <td>yes</td>\n",
       "      <td>yes</td>\n",
       "      <td>0</td>\n",
       "      <td>D</td>\n",
       "    </tr>\n",
       "    <tr>\n",
       "      <th>40482</th>\n",
       "      <td>no</td>\n",
       "      <td>no</td>\n",
       "      <td>0</td>\n",
       "      <td>A</td>\n",
       "    </tr>\n",
       "    <tr>\n",
       "      <th>40483</th>\n",
       "      <td>yes</td>\n",
       "      <td>yes</td>\n",
       "      <td>0</td>\n",
       "      <td>D</td>\n",
       "    </tr>\n",
       "  </tbody>\n",
       "</table>\n",
       "<p>40484 rows × 4 columns</p>\n",
       "</div>"
      ],
      "text/plain": [
       "      landingPage new_images  converted Groups\n",
       "0             yes        yes          0      D\n",
       "1             yes        yes          0      D\n",
       "2             yes        yes          0      D\n",
       "3             yes         no          0      C\n",
       "4              no        yes          0      B\n",
       "...           ...        ...        ...    ...\n",
       "40479          no         no          0      A\n",
       "40480         yes        yes          0      D\n",
       "40481         yes        yes          0      D\n",
       "40482          no         no          0      A\n",
       "40483         yes        yes          0      D\n",
       "\n",
       "[40484 rows x 4 columns]"
      ]
     },
     "execution_count": 33,
     "metadata": {},
     "output_type": "execute_result"
    }
   ],
   "source": [
    "df"
   ]
  },
  {
   "cell_type": "markdown",
   "id": "9289f902",
   "metadata": {},
   "source": [
    "### Conversion Rate Caln "
   ]
  },
  {
   "cell_type": "markdown",
   "id": "6e6b5db6",
   "metadata": {},
   "source": [
    "Each Group Converted Count \n"
   ]
  },
  {
   "cell_type": "code",
   "execution_count": 34,
   "id": "91b0de02",
   "metadata": {},
   "outputs": [
    {
     "data": {
      "text/plain": [
       "Groups\n",
       "A    1084\n",
       "B    1139\n",
       "C    1215\n",
       "D    1151\n",
       "Name: converted, dtype: int64"
      ]
     },
     "execution_count": 34,
     "metadata": {},
     "output_type": "execute_result"
    }
   ],
   "source": [
    "convertedCount=df.groupby(by = 'Groups')['converted'].sum()\n",
    "convertedCount"
   ]
  },
  {
   "cell_type": "markdown",
   "id": "08915fed",
   "metadata": {},
   "source": [
    "Lets Find a Conversion Rate <br>\n",
    "Conversion Rate = (Converted Count / Total Count )"
   ]
  },
  {
   "cell_type": "code",
   "execution_count": 35,
   "id": "b7a94e34",
   "metadata": {},
   "outputs": [],
   "source": [
    "totalCount= df.groupby(by='Groups')['converted'].count()"
   ]
  },
  {
   "cell_type": "code",
   "execution_count": 36,
   "id": "889a9f24",
   "metadata": {},
   "outputs": [],
   "source": [
    "CountCalnDf=pd.DataFrame({'ConvertedCount':convertedCount,'TotalCount':totalCount})"
   ]
  },
  {
   "cell_type": "code",
   "execution_count": 37,
   "id": "8b2b0702",
   "metadata": {},
   "outputs": [],
   "source": [
    "CountCalnDf['ConversionRate']=CountCalnDf['ConvertedCount']/CountCalnDf['TotalCount']"
   ]
  },
  {
   "cell_type": "code",
   "execution_count": 38,
   "id": "e995ede3",
   "metadata": {},
   "outputs": [
    {
     "data": {
      "text/html": [
       "<div>\n",
       "<style scoped>\n",
       "    .dataframe tbody tr th:only-of-type {\n",
       "        vertical-align: middle;\n",
       "    }\n",
       "\n",
       "    .dataframe tbody tr th {\n",
       "        vertical-align: top;\n",
       "    }\n",
       "\n",
       "    .dataframe thead th {\n",
       "        text-align: right;\n",
       "    }\n",
       "</style>\n",
       "<table border=\"1\" class=\"dataframe\">\n",
       "  <thead>\n",
       "    <tr style=\"text-align: right;\">\n",
       "      <th></th>\n",
       "      <th>ConvertedCount</th>\n",
       "      <th>TotalCount</th>\n",
       "      <th>ConversionRate</th>\n",
       "    </tr>\n",
       "    <tr>\n",
       "      <th>Groups</th>\n",
       "      <th></th>\n",
       "      <th></th>\n",
       "      <th></th>\n",
       "    </tr>\n",
       "  </thead>\n",
       "  <tbody>\n",
       "    <tr>\n",
       "      <th>A</th>\n",
       "      <td>1084</td>\n",
       "      <td>10121</td>\n",
       "      <td>0.107104</td>\n",
       "    </tr>\n",
       "    <tr>\n",
       "      <th>B</th>\n",
       "      <td>1139</td>\n",
       "      <td>10121</td>\n",
       "      <td>0.112538</td>\n",
       "    </tr>\n",
       "    <tr>\n",
       "      <th>C</th>\n",
       "      <td>1215</td>\n",
       "      <td>10121</td>\n",
       "      <td>0.120047</td>\n",
       "    </tr>\n",
       "    <tr>\n",
       "      <th>D</th>\n",
       "      <td>1151</td>\n",
       "      <td>10121</td>\n",
       "      <td>0.113724</td>\n",
       "    </tr>\n",
       "  </tbody>\n",
       "</table>\n",
       "</div>"
      ],
      "text/plain": [
       "        ConvertedCount  TotalCount  ConversionRate\n",
       "Groups                                            \n",
       "A                 1084       10121        0.107104\n",
       "B                 1139       10121        0.112538\n",
       "C                 1215       10121        0.120047\n",
       "D                 1151       10121        0.113724"
      ]
     },
     "execution_count": 38,
     "metadata": {},
     "output_type": "execute_result"
    }
   ],
   "source": [
    "CountCalnDf"
   ]
  },
  {
   "cell_type": "code",
   "execution_count": 39,
   "id": "02f2ee5d",
   "metadata": {},
   "outputs": [
    {
     "data": {
      "text/plain": [
       "<AxesSubplot:xlabel='Groups'>"
      ]
     },
     "execution_count": 39,
     "metadata": {},
     "output_type": "execute_result"
    },
    {
     "data": {
      "image/png": "[encoded data removed]",
      "text/plain": [
       "<Figure size 640x480 with 1 Axes>"
      ]
     },
     "metadata": {},
     "output_type": "display_data"
    }
   ],
   "source": [
    "CountCalnDf.plot(kind='bar',y='ConversionRate',color=['red','blue','green','yellow'],legend=False)"
   ]
  },
  {
   "cell_type": "markdown",
   "id": "ef9a9247",
   "metadata": {},
   "source": [
    "#### Hypothesis Testing "
   ]
  },
  {
   "cell_type": "markdown",
   "id": "3bfb30fe",
   "metadata": {},
   "source": [
    "###### H0 : The Control and Treatment Group Have the same Impact <br>\n",
    "###### H1: The Control and Treatment Group Does not have Same Impact "
   ]
  },
  {
   "cell_type": "markdown",
   "id": "8b12e93e",
   "metadata": {},
   "source": [
    "I'm Taking Confidence Level as Standard 95%,Because there is No TradeOff Needed Here as its Not Involved Much Cost Because we already Took the Data ."
   ]
  },
  {
   "cell_type": "markdown",
   "id": "8e127b93",
   "metadata": {},
   "source": [
    "#### As we are having 4 Groups of Conversion ,instead of Doing t-test or Z-test and Compare with Different Groups ,In one shot we can Chi Square Test of Independenc with Contingency Table and then if there is a Significant Difference between Population and Sample Proportion then  We will Go deep with Ztest between Different Groups will conclude which is Best .Or else We will Stop here Itsel if there is no significant Difference\n"
   ]
  },
  {
   "cell_type": "code",
   "execution_count": 54,
   "id": "df3a2f31",
   "metadata": {},
   "outputs": [
    {
     "name": "stdout",
     "output_type": "stream",
     "text": [
      "[[1084 9037]\n",
      " [1139 8982]\n",
      " [1215 8906]\n",
      " [1151 8970]]\n",
      "Chi-Square Statistic: 8.526056765102425\n",
      "P-Value: 0.03630328708083606\n"
     ]
    }
   ],
   "source": [
    "from scipy.stats import chi2_contingency\n",
    "convertedCount=CountCalnDf['ConvertedCount']\n",
    "nonConvertedCount=CountCalnDf['TotalCount']-CountCalnDf['ConvertedCount']\n",
    "conversion_data = np.column_stack((convertedCount, nonConvertedCount))\n",
    "print(conversion_data)\n",
    "chi2_stat, p_val, dof, expected = chi2_contingency(conversion_data)\n",
    "\n",
    "print(\"Chi-Square Statistic:\", chi2_stat)\n",
    "print(\"P-Value:\", p_val)\n"
   ]
  },
  {
   "cell_type": "markdown",
   "id": "d4fa9821",
   "metadata": {},
   "source": [
    "From the P value Its clearly visible that We have Enough evidence to reject the Null Hypothesis ,That is there is a Significant difference between Different Groups and Conversion Rate "
   ]
  },
  {
   "cell_type": "markdown",
   "id": "7dc3072b",
   "metadata": {},
   "source": [
    "Our Next step is to find out which Group is the best Design by using Proportion Z test by comparing a Control Group with Every Treatment group"
   ]
  },
  {
   "cell_type": "code",
   "execution_count": 58,
   "id": "48ec19fa",
   "metadata": {},
   "outputs": [],
   "source": [
    "def test_pvalue(p):\n",
    "    if p < 0.01:\n",
    "        s = 'Very strong evidence against Null Hypothesis'\n",
    "    elif p < 0.05:\n",
    "        s = 'Strong evidence against Null Hypothesis'\n",
    "    elif p < 0.1:\n",
    "        s = 'Very weak evidence against Null Hypothesis'\n",
    "    else:\n",
    "        s = 'Small to no evidence against Null Hypothesis'\n",
    "    return s"
   ]
  },
  {
   "cell_type": "code",
   "execution_count": 64,
   "id": "9faae1a3",
   "metadata": {},
   "outputs": [
    {
     "name": "stdout",
     "output_type": "stream",
     "text": [
      "-1.2363867031898539 0.2163148562938333\n",
      "Small to no evidence against Null Hypothesis\n",
      "-2.9018903061123846 0.0037091839675173722\n",
      "Very strong evidence against Null Hypothesis\n",
      "-1.5025954414248646 0.13294339963478088\n",
      "Small to no evidence against Null Hypothesis\n"
     ]
    }
   ],
   "source": [
    "from scipy import stats \n",
    "from statsmodels.stats.proportion import  proportion_confint,proportions_ztest\n",
    "def CheckHypothesis():\n",
    "    for i in ['B','C','D']:\n",
    "        ControlSuccess=CountCalnDf['ConvertedCount']['A']\n",
    "        nObs=CountCalnDf['TotalCount']['A']\n",
    "        treatmentSucessB = CountCalnDf['ConvertedCount'][i]\n",
    "        success=[ControlSuccess,treatmentSucessB]\n",
    "        zCal,pVal=proportions_ztest(success,nObs)\n",
    "        print(zCal,pVal)\n",
    "        print (test_pvalue(pVal))\n",
    "\n",
    "CheckHypothesis()\n",
    "    \n",
    "\n",
    "    "
   ]
  },
  {
   "cell_type": "markdown",
   "id": "1295be39",
   "metadata": {},
   "source": [
    "#  So For Group A and Group C is Having significant Difference From this we are concluding that Old Landing Page is the Problem If we change the Old Landing and Old Image with new Landing and Old Image Means Our Conversion rate is High.\n",
    "A:Control Group = > Old Image and Old Landing Page\n",
    "C:Treatment Group = > Old Image and New Landing Page"
   ]
  },
  {
   "cell_type": "code",
   "execution_count": null,
   "id": "fd3e16ed",
   "metadata": {},
   "outputs": [],
   "source": []
  },
  {
   "cell_type": "code",
   "execution_count": null,
   "id": "a6c3af1d",
   "metadata": {},
   "outputs": [],
   "source": []
  },
  {
   "cell_type": "code",
   "execution_count": null,
   "id": "4ac6bba4",
   "metadata": {},
   "outputs": [],
   "source": []
  },
  {
   "cell_type": "code",
   "execution_count": null,
   "id": "050a48a6",
   "metadata": {},
   "outputs": [],
   "source": []
  },
  {
   "cell_type": "code",
   "execution_count": null,
   "id": "4d5bf388",
   "metadata": {},
   "outputs": [],
   "source": []
  },
  {
   "cell_type": "code",
   "execution_count": null,
   "id": "df7c074e",
   "metadata": {},
   "outputs": [],
   "source": []
  },
  {
   "cell_type": "code",
   "execution_count": null,
   "id": "f49cc4b4",
   "metadata": {},
   "outputs": [],
   "source": []
  },
  {
   "cell_type": "code",
   "execution_count": null,
   "id": "157ccb49",
   "metadata": {},
   "outputs": [],
   "source": []
  },
  {
   "cell_type": "code",
   "execution_count": null,
   "id": "9be8100d",
   "metadata": {},
   "outputs": [],
   "source": []
  },
  {
   "cell_type": "code",
   "execution_count": null,
   "id": "2bf95e93",
   "metadata": {},
   "outputs": [],
   "source": []
  },
  {
   "cell_type": "code",
   "execution_count": null,
   "id": "d3c3dddf",
   "metadata": {},
   "outputs": [],
   "source": []
  },
  {
   "cell_type": "code",
   "execution_count": null,
   "id": "73b56bd8",
   "metadata": {},
   "outputs": [],
   "source": []
  }
 ],
 "metadata": {
  "kernelspec": {
   "display_name": "Python 3 (ipykernel)",
   "language": "python",
   "name": "python3"
  },
  "language_info": {
   "codemirror_mode": {
    "name": "ipython",
    "version": 3
   },
   "file_extension": ".py",
   "mimetype": "text/x-python",
   "name": "python",
   "nbconvert_exporter": "python",
   "pygments_lexer": "ipython3",
   "version": "3.9.13"
  }
 },
 "nbformat": 4,
 "nbformat_minor": 5
}
